{
 "cells": [
  {
   "cell_type": "code",
   "execution_count": null,
   "id": "1e9ad19f-88b8-4eaf-80b3-e22d313dde35",
   "metadata": {},
   "outputs": [],
   "source": [
    "#Daisy Rivera, 04/20/2025\n",
    "\n",
    "Project 1"
   ]
  },
  {
   "cell_type": "markdown",
   "id": "20102fbf-3a85-4a93-946c-d36eded625f1",
   "metadata": {},
   "source": [
    "Your CEO has decided that the company needs a full-time data scientist, and possibly a team of them in the future. She thinks she needs someone who can help drive data science within then entire organization and could potentially lead a team in the future. She understands that data scientist salaries vary widely across the world and is unsure what to pay them. To complicate matters, salaries are going up due to the great recession and the market is highly competitive. Your CEO has asked you to prepare an analysis on data science salaries and provide them with a range to be competitive and get top talent. The position can work offshore, but the CEO would like to know what the difference is for a person working in the United States. Your company is currently a small company but is expanding rapidly. \n",
    "\n",
    "Prepare your analysis in an R file. Your final product should be a power point presentation giving your recommendation to the CEO. CEOs do not care about your code and don’t want to see it. They want to see visuals and a well thought out analysis. You will need to turn in the power point and the code as a flat R file. \n"
   ]
  },
  {
   "cell_type": "code",
   "execution_count": 1,
   "id": "6a254af1-8282-4ba7-b697-815404d73af7",
   "metadata": {},
   "outputs": [],
   "source": [
    "import matplotlib.pyplot as plt\n",
    "import numpy as np\n",
    "import pandas as pd\n",
    "import seaborn as sns\n",
    "import os"
   ]
  },
  {
   "cell_type": "code",
   "execution_count": 11,
   "id": "05cc67ff-ba52-4e23-8dbc-8e5e1fb51383",
   "metadata": {
    "scrolled": true
   },
   "outputs": [
    {
     "data": {
      "text/html": [
       "<div>\n",
       "<style scoped>\n",
       "    .dataframe tbody tr th:only-of-type {\n",
       "        vertical-align: middle;\n",
       "    }\n",
       "\n",
       "    .dataframe tbody tr th {\n",
       "        vertical-align: top;\n",
       "    }\n",
       "\n",
       "    .dataframe thead th {\n",
       "        text-align: right;\n",
       "    }\n",
       "</style>\n",
       "<table border=\"1\" class=\"dataframe\">\n",
       "  <thead>\n",
       "    <tr style=\"text-align: right;\">\n",
       "      <th></th>\n",
       "      <th>Unnamed: 0</th>\n",
       "      <th>work_year</th>\n",
       "      <th>experience_level</th>\n",
       "      <th>employment_type</th>\n",
       "      <th>job_title</th>\n",
       "      <th>salary</th>\n",
       "      <th>salary_currency</th>\n",
       "      <th>salary_in_usd</th>\n",
       "      <th>employee_residence</th>\n",
       "      <th>remote_ratio</th>\n",
       "      <th>company_location</th>\n",
       "      <th>company_size</th>\n",
       "    </tr>\n",
       "  </thead>\n",
       "  <tbody>\n",
       "    <tr>\n",
       "      <th>0</th>\n",
       "      <td>0</td>\n",
       "      <td>2020</td>\n",
       "      <td>MI</td>\n",
       "      <td>FT</td>\n",
       "      <td>Data Scientist</td>\n",
       "      <td>70000</td>\n",
       "      <td>EUR</td>\n",
       "      <td>79833</td>\n",
       "      <td>DE</td>\n",
       "      <td>0</td>\n",
       "      <td>DE</td>\n",
       "      <td>L</td>\n",
       "    </tr>\n",
       "    <tr>\n",
       "      <th>1</th>\n",
       "      <td>1</td>\n",
       "      <td>2020</td>\n",
       "      <td>SE</td>\n",
       "      <td>FT</td>\n",
       "      <td>Machine Learning Scientist</td>\n",
       "      <td>260000</td>\n",
       "      <td>USD</td>\n",
       "      <td>260000</td>\n",
       "      <td>JP</td>\n",
       "      <td>0</td>\n",
       "      <td>JP</td>\n",
       "      <td>S</td>\n",
       "    </tr>\n",
       "    <tr>\n",
       "      <th>2</th>\n",
       "      <td>2</td>\n",
       "      <td>2020</td>\n",
       "      <td>SE</td>\n",
       "      <td>FT</td>\n",
       "      <td>Big Data Engineer</td>\n",
       "      <td>85000</td>\n",
       "      <td>GBP</td>\n",
       "      <td>109024</td>\n",
       "      <td>GB</td>\n",
       "      <td>50</td>\n",
       "      <td>GB</td>\n",
       "      <td>M</td>\n",
       "    </tr>\n",
       "    <tr>\n",
       "      <th>3</th>\n",
       "      <td>3</td>\n",
       "      <td>2020</td>\n",
       "      <td>MI</td>\n",
       "      <td>FT</td>\n",
       "      <td>Product Data Analyst</td>\n",
       "      <td>20000</td>\n",
       "      <td>USD</td>\n",
       "      <td>20000</td>\n",
       "      <td>HN</td>\n",
       "      <td>0</td>\n",
       "      <td>HN</td>\n",
       "      <td>S</td>\n",
       "    </tr>\n",
       "    <tr>\n",
       "      <th>4</th>\n",
       "      <td>4</td>\n",
       "      <td>2020</td>\n",
       "      <td>SE</td>\n",
       "      <td>FT</td>\n",
       "      <td>Machine Learning Engineer</td>\n",
       "      <td>150000</td>\n",
       "      <td>USD</td>\n",
       "      <td>150000</td>\n",
       "      <td>US</td>\n",
       "      <td>50</td>\n",
       "      <td>US</td>\n",
       "      <td>L</td>\n",
       "    </tr>\n",
       "    <tr>\n",
       "      <th>...</th>\n",
       "      <td>...</td>\n",
       "      <td>...</td>\n",
       "      <td>...</td>\n",
       "      <td>...</td>\n",
       "      <td>...</td>\n",
       "      <td>...</td>\n",
       "      <td>...</td>\n",
       "      <td>...</td>\n",
       "      <td>...</td>\n",
       "      <td>...</td>\n",
       "      <td>...</td>\n",
       "      <td>...</td>\n",
       "    </tr>\n",
       "    <tr>\n",
       "      <th>602</th>\n",
       "      <td>602</td>\n",
       "      <td>2022</td>\n",
       "      <td>SE</td>\n",
       "      <td>FT</td>\n",
       "      <td>Data Engineer</td>\n",
       "      <td>154000</td>\n",
       "      <td>USD</td>\n",
       "      <td>154000</td>\n",
       "      <td>US</td>\n",
       "      <td>100</td>\n",
       "      <td>US</td>\n",
       "      <td>M</td>\n",
       "    </tr>\n",
       "    <tr>\n",
       "      <th>603</th>\n",
       "      <td>603</td>\n",
       "      <td>2022</td>\n",
       "      <td>SE</td>\n",
       "      <td>FT</td>\n",
       "      <td>Data Engineer</td>\n",
       "      <td>126000</td>\n",
       "      <td>USD</td>\n",
       "      <td>126000</td>\n",
       "      <td>US</td>\n",
       "      <td>100</td>\n",
       "      <td>US</td>\n",
       "      <td>M</td>\n",
       "    </tr>\n",
       "    <tr>\n",
       "      <th>604</th>\n",
       "      <td>604</td>\n",
       "      <td>2022</td>\n",
       "      <td>SE</td>\n",
       "      <td>FT</td>\n",
       "      <td>Data Analyst</td>\n",
       "      <td>129000</td>\n",
       "      <td>USD</td>\n",
       "      <td>129000</td>\n",
       "      <td>US</td>\n",
       "      <td>0</td>\n",
       "      <td>US</td>\n",
       "      <td>M</td>\n",
       "    </tr>\n",
       "    <tr>\n",
       "      <th>605</th>\n",
       "      <td>605</td>\n",
       "      <td>2022</td>\n",
       "      <td>SE</td>\n",
       "      <td>FT</td>\n",
       "      <td>Data Analyst</td>\n",
       "      <td>150000</td>\n",
       "      <td>USD</td>\n",
       "      <td>150000</td>\n",
       "      <td>US</td>\n",
       "      <td>100</td>\n",
       "      <td>US</td>\n",
       "      <td>M</td>\n",
       "    </tr>\n",
       "    <tr>\n",
       "      <th>606</th>\n",
       "      <td>606</td>\n",
       "      <td>2022</td>\n",
       "      <td>MI</td>\n",
       "      <td>FT</td>\n",
       "      <td>AI Scientist</td>\n",
       "      <td>200000</td>\n",
       "      <td>USD</td>\n",
       "      <td>200000</td>\n",
       "      <td>IN</td>\n",
       "      <td>100</td>\n",
       "      <td>US</td>\n",
       "      <td>L</td>\n",
       "    </tr>\n",
       "  </tbody>\n",
       "</table>\n",
       "<p>607 rows × 12 columns</p>\n",
       "</div>"
      ],
      "text/plain": [
       "     Unnamed: 0  work_year experience_level employment_type  \\\n",
       "0             0       2020               MI              FT   \n",
       "1             1       2020               SE              FT   \n",
       "2             2       2020               SE              FT   \n",
       "3             3       2020               MI              FT   \n",
       "4             4       2020               SE              FT   \n",
       "..          ...        ...              ...             ...   \n",
       "602         602       2022               SE              FT   \n",
       "603         603       2022               SE              FT   \n",
       "604         604       2022               SE              FT   \n",
       "605         605       2022               SE              FT   \n",
       "606         606       2022               MI              FT   \n",
       "\n",
       "                      job_title  salary salary_currency  salary_in_usd  \\\n",
       "0                Data Scientist   70000             EUR          79833   \n",
       "1    Machine Learning Scientist  260000             USD         260000   \n",
       "2             Big Data Engineer   85000             GBP         109024   \n",
       "3          Product Data Analyst   20000             USD          20000   \n",
       "4     Machine Learning Engineer  150000             USD         150000   \n",
       "..                          ...     ...             ...            ...   \n",
       "602               Data Engineer  154000             USD         154000   \n",
       "603               Data Engineer  126000             USD         126000   \n",
       "604                Data Analyst  129000             USD         129000   \n",
       "605                Data Analyst  150000             USD         150000   \n",
       "606                AI Scientist  200000             USD         200000   \n",
       "\n",
       "    employee_residence  remote_ratio company_location company_size  \n",
       "0                   DE             0               DE            L  \n",
       "1                   JP             0               JP            S  \n",
       "2                   GB            50               GB            M  \n",
       "3                   HN             0               HN            S  \n",
       "4                   US            50               US            L  \n",
       "..                 ...           ...              ...          ...  \n",
       "602                 US           100               US            M  \n",
       "603                 US           100               US            M  \n",
       "604                 US             0               US            M  \n",
       "605                 US           100               US            M  \n",
       "606                 IN           100               US            L  \n",
       "\n",
       "[607 rows x 12 columns]"
      ]
     },
     "execution_count": 11,
     "metadata": {},
     "output_type": "execute_result"
    }
   ],
   "source": [
    "infile = \"data/daisy_rivera.module05RProject.csv\"\n",
    "ds_salaries_df=pd.read_csv(infile)\n",
    "\n",
    "ds_salaries_df"
   ]
  },
  {
   "cell_type": "code",
   "execution_count": 12,
   "id": "2c0d66cf-38a2-427b-a8dc-f0e96d16fc8f",
   "metadata": {},
   "outputs": [
    {
     "data": {
      "text/plain": [
       "['Unnamed: 0',\n",
       " 'work_year',\n",
       " 'experience_level',\n",
       " 'employment_type',\n",
       " 'job_title',\n",
       " 'salary',\n",
       " 'salary_currency',\n",
       " 'salary_in_usd',\n",
       " 'employee_residence',\n",
       " 'remote_ratio',\n",
       " 'company_location',\n",
       " 'company_size']"
      ]
     },
     "execution_count": 12,
     "metadata": {},
     "output_type": "execute_result"
    }
   ],
   "source": [
    "list(ds_salaries_df.columns)"
   ]
  },
  {
   "cell_type": "code",
   "execution_count": 14,
   "id": "79800ce0-f67a-452c-8e18-e04af39e4332",
   "metadata": {},
   "outputs": [
    {
     "data": {
      "text/html": [
       "<div>\n",
       "<style scoped>\n",
       "    .dataframe tbody tr th:only-of-type {\n",
       "        vertical-align: middle;\n",
       "    }\n",
       "\n",
       "    .dataframe tbody tr th {\n",
       "        vertical-align: top;\n",
       "    }\n",
       "\n",
       "    .dataframe thead th {\n",
       "        text-align: right;\n",
       "    }\n",
       "</style>\n",
       "<table border=\"1\" class=\"dataframe\">\n",
       "  <thead>\n",
       "    <tr style=\"text-align: right;\">\n",
       "      <th></th>\n",
       "      <th>company_location</th>\n",
       "      <th>salary_in_usd</th>\n",
       "    </tr>\n",
       "  </thead>\n",
       "  <tbody>\n",
       "    <tr>\n",
       "      <th>22</th>\n",
       "      <td>US</td>\n",
       "      <td>143115.68</td>\n",
       "    </tr>\n",
       "    <tr>\n",
       "      <th>4</th>\n",
       "      <td>CH</td>\n",
       "      <td>122346.00</td>\n",
       "    </tr>\n",
       "    <tr>\n",
       "      <th>12</th>\n",
       "      <td>IL</td>\n",
       "      <td>119059.00</td>\n",
       "    </tr>\n",
       "    <tr>\n",
       "      <th>7</th>\n",
       "      <td>DZ</td>\n",
       "      <td>100000.00</td>\n",
       "    </tr>\n",
       "    <tr>\n",
       "      <th>10</th>\n",
       "      <td>GB</td>\n",
       "      <td>88177.36</td>\n",
       "    </tr>\n",
       "    <tr>\n",
       "      <th>1</th>\n",
       "      <td>AU</td>\n",
       "      <td>86703.00</td>\n",
       "    </tr>\n",
       "    <tr>\n",
       "      <th>3</th>\n",
       "      <td>CA</td>\n",
       "      <td>77787.00</td>\n",
       "    </tr>\n",
       "    <tr>\n",
       "      <th>0</th>\n",
       "      <td>AT</td>\n",
       "      <td>76352.00</td>\n",
       "    </tr>\n",
       "    <tr>\n",
       "      <th>6</th>\n",
       "      <td>DE</td>\n",
       "      <td>69640.14</td>\n",
       "    </tr>\n",
       "    <tr>\n",
       "      <th>15</th>\n",
       "      <td>LU</td>\n",
       "      <td>62726.00</td>\n",
       "    </tr>\n",
       "  </tbody>\n",
       "</table>\n",
       "</div>"
      ],
      "text/plain": [
       "   company_location  salary_in_usd\n",
       "22               US      143115.68\n",
       "4                CH      122346.00\n",
       "12               IL      119059.00\n",
       "7                DZ      100000.00\n",
       "10               GB       88177.36\n",
       "1                AU       86703.00\n",
       "3                CA       77787.00\n",
       "0                AT       76352.00\n",
       "6                DE       69640.14\n",
       "15               LU       62726.00"
      ]
     },
     "execution_count": 14,
     "metadata": {},
     "output_type": "execute_result"
    }
   ],
   "source": [
    "data_scientists = ds_salaries_df[ds_salaries_df['job_title'] == 'Data Scientist']\n",
    "\n",
    "avg_salary_by_location = data_scientists.groupby('company_location')['salary_in_usd'].mean().round(2).reset_index()\n",
    "\n",
    "avg_salary_by_location.sort_values(by='salary_in_usd', ascending=False).head(10)\n"
   ]
  },
  {
   "cell_type": "code",
   "execution_count": 15,
   "id": "98042646-f14f-4d5f-854a-40899db2fee3",
   "metadata": {},
   "outputs": [
    {
     "name": "stdout",
     "output_type": "stream",
     "text": [
      "Global Average Salary: $108,188\n",
      "Global Minimum Salary: $2,859\n",
      "Global Maximum Salary: $412,000\n"
     ]
    }
   ],
   "source": [
    "data_scientists = ds_salaries_df[ds_salaries_df['job_title'] == 'Data Scientist']\n",
    "\n",
    "global_avg_salary = data_scientists['salary_in_usd'].mean()\n",
    "global_min_salary = data_scientists['salary_in_usd'].min()\n",
    "global_max_salary = data_scientists['salary_in_usd'].max()\n",
    "\n",
    "print(f\"Global Average Salary: ${round(global_avg_salary):,}\")\n",
    "print(f\"Global Minimum Salary: ${round(global_min_salary):,}\")\n",
    "print(f\"Global Maximum Salary: ${round(global_max_salary):,}\")\n"
   ]
  },
  {
   "cell_type": "code",
   "execution_count": 7,
   "id": "b2c23a35-d708-40db-8afb-e918d5a9578a",
   "metadata": {},
   "outputs": [
    {
     "name": "stdout",
     "output_type": "stream",
     "text": [
      "U.S. Average Salary: $149,408\n",
      "U.S. Minimum Salary: $58,000\n",
      "U.S. Maximum Salary: $412,000\n"
     ]
    }
   ],
   "source": [
    "us_data_scientists = data_scientists[data_scientists['employee_residence'] == 'US']\n",
    "\n",
    "us_avg_salary = us_data_scientists['salary_in_usd'].mean()\n",
    "us_min_salary = us_data_scientists['salary_in_usd'].min()\n",
    "us_max_salary = us_data_scientists['salary_in_usd'].max()\n",
    "\n",
    "print(f\"U.S. Average Salary: ${round(us_avg_salary):,}\")\n",
    "print(f\"U.S. Minimum Salary: ${round(us_min_salary):,}\")\n",
    "print(f\"U.S. Maximum Salary: ${round(us_max_salary):,}\")"
   ]
  },
  {
   "cell_type": "code",
   "execution_count": 61,
   "id": "b19a6bd2-b217-43d6-a3db-113f12ddfe9a",
   "metadata": {},
   "outputs": [
    {
     "name": "stdout",
     "output_type": "stream",
     "text": [
      "38.10086618757243\n"
     ]
    }
   ],
   "source": [
    "percent_difference = ((us_avg_salary - global_avg_salary) / global_avg_salary) * 100\n",
    "\n",
    "print(percent_difference)"
   ]
  },
  {
   "cell_type": "code",
   "execution_count": 19,
   "id": "d1dc480d-b7c7-4f8e-8c0d-61c10ed63586",
   "metadata": {},
   "outputs": [],
   "source": [
    "data_scientists = ds_salaries_df[ds_salaries_df['job_title'] == 'Data Scientist']\n",
    "\n",
    "data_scientists.loc[:, 'experience_level'] = data_scientists['experience_level'].replace({\n",
    "    'EN': 'Entry-level',\n",
    "    'MI': 'Mid-level',\n",
    "    'SE': 'Senior',\n",
    "    'EX': 'Executive'\n",
    "})"
   ]
  },
  {
   "cell_type": "code",
   "execution_count": 20,
   "id": "8e1f4fd6-8658-46ae-b853-7a940d397447",
   "metadata": {},
   "outputs": [
    {
     "name": "stdout",
     "output_type": "stream",
     "text": [
      "  experience_level  avg_salary  min_salary  max_salary  median_salary\n",
      "0      Entry-level       55331        4000      105000          50484\n",
      "1        Mid-level       82039        2859      200000          77479\n",
      "2           Senior      152971       20171      412000         140400\n"
     ]
    }
   ],
   "source": [
    "exp_level = data_scientists.groupby('experience_level')['salary_in_usd'].agg(\n",
    "    avg_salary='mean',\n",
    "    min_salary='min',\n",
    "    max_salary='max',\n",
    "    median_salary='median'\n",
    ").round(0).astype(int).reset_index()\n",
    "\n",
    "print(exp_level)"
   ]
  },
  {
   "cell_type": "code",
   "execution_count": 57,
   "id": "b6fa5b82-0df6-49a6-b36e-59f77ad492d0",
   "metadata": {},
   "outputs": [
    {
     "name": "stdout",
     "output_type": "stream",
     "text": [
      "  remote_status  salary_in_usd\n",
      "0        Hybrid          74504\n",
      "1       On-site          99521\n",
      "2        Remote         123126\n"
     ]
    }
   ],
   "source": [
    "data_scientists = ds_salaries_df[ds_salaries_df['job_title'] == 'Data Scientist'].copy()\n",
    "\n",
    "data_scientists['remote_status'] = data_scientists['remote_ratio'].map({\n",
    "    0: 'On-site',\n",
    "    50: 'Hybrid',\n",
    "    100: 'Remote'\n",
    "})\n",
    "\n",
    "remote_salary = data_scientists.groupby('remote_status')['salary_in_usd'].mean().round(0).astype(int).reset_index()\n",
    "print(remote_salary)"
   ]
  },
  {
   "cell_type": "code",
   "execution_count": 40,
   "id": "9dcccf1c-b3c8-4ae2-acfb-04906b8a5d19",
   "metadata": {
    "scrolled": true
   },
   "outputs": [
    {
     "name": "stderr",
     "output_type": "stream",
     "text": [
      "C:\\Users\\daisy\\AppData\\Local\\Temp\\ipykernel_14092\\2394195481.py:6: FutureWarning: \n",
      "\n",
      "Passing `palette` without assigning `hue` is deprecated and will be removed in v0.14.0. Assign the `x` variable to `hue` and set `legend=False` for the same effect.\n",
      "\n",
      "  sns.barplot(data=remote_avg, x='remote_status', y='salary_in_usd', palette='Paired')\n"
     ]
    },
    {
     "data": {
      "image/png": "[encoded data removed]",
      "text/plain": [
       "<Figure size 800x600 with 1 Axes>"
      ]
     },
     "metadata": {},
     "output_type": "display_data"
    }
   ],
   "source": [
    "remote_avg = data_scientists.groupby('remote_status')['salary_in_usd'].mean().round(0).astype(int).reset_index()\n",
    "\n",
    "plt.figure(figsize=(8, 6))\n",
    "sns.barplot(data=remote_avg, x='remote_status', y='salary_in_usd', palette='Paired')\n",
    "\n",
    "for index, row in remote_avg.iterrows():\n",
    "    plt.text(index, row['salary_in_usd'] + 2000, f\"${row['salary_in_usd']:,}\", \n",
    "             ha='center', fontweight='bold')\n",
    "\n",
    "plt.title(\"Salary by On-site/Remote Option\")\n",
    "plt.ylabel(\"Average Salary (USD)\")\n",
    "plt.xlabel(\"On-site/Remote Option\")\n",
    "plt.show()"
   ]
  },
  {
   "cell_type": "code",
   "execution_count": 42,
   "id": "421b7b06-aaa5-4107-b32d-e2368bc28fcc",
   "metadata": {},
   "outputs": [
    {
     "name": "stdout",
     "output_type": "stream",
     "text": [
      "  company_size  salary_in_usd\n",
      "0        Large         103313\n",
      "1       Medium         126381\n",
      "2        Small          51926\n"
     ]
    }
   ],
   "source": [
    "data_scientists.loc[:, 'company_size'] = data_scientists['company_size'].replace({\n",
    "    'S': 'Small',\n",
    "    'M': 'Medium',\n",
    "    'L': 'Large'\n",
    "})\n",
    "\n",
    "company_size_salary = data_scientists.groupby('company_size')['salary_in_usd'].mean().round(0).astype(int).reset_index()\n",
    "\n",
    "print(company_size_salary)\n"
   ]
  },
  {
   "cell_type": "code",
   "execution_count": 55,
   "id": "0ccbe60c-dd0c-4fcc-b3d4-bbe5182902d5",
   "metadata": {},
   "outputs": [
    {
     "name": "stderr",
     "output_type": "stream",
     "text": [
      "C:\\Users\\daisy\\AppData\\Local\\Temp\\ipykernel_14092\\1240318588.py:2: FutureWarning: \n",
      "\n",
      "Passing `palette` without assigning `hue` is deprecated and will be removed in v0.14.0. Assign the `x` variable to `hue` and set `legend=False` for the same effect.\n",
      "\n",
      "  sns.barplot(\n"
     ]
    },
    {
     "data": {
      "image/png": "[encoded data removed]",
      "text/plain": [
       "<Figure size 800x600 with 1 Axes>"
      ]
     },
     "metadata": {},
     "output_type": "display_data"
    }
   ],
   "source": [
    "plt.figure(figsize=(8, 6))\n",
    "sns.barplot(\n",
    "    data=company_size_salary,\n",
    "    x='company_size',\n",
    "    y='salary_in_usd',\n",
    "    palette='Paired'\n",
    ")\n",
    "\n",
    "\n",
    "for index, row in company_size_salary.iterrows():\n",
    "    plt.text(index, row['salary_in_usd'] + 2000, f\"${row['salary_in_usd']:,}\",\n",
    "             ha='center', fontweight='bold')\n",
    "\n",
    "plt.title(\"Salary by Company Size\")\n",
    "plt.xlabel(\"Company Size\")\n",
    "plt.ylabel(\"Average Salary (USD)\")\n",
    "plt.tight_layout()\n",
    "plt.savefig(\"salary_by_company_size_paired_palette.png\")\n",
    "plt.show()"
   ]
  },
  {
   "cell_type": "code",
   "execution_count": null,
   "id": "5d1be970-dc51-49b4-8025-231ba4fe2ff3",
   "metadata": {},
   "outputs": [],
   "source": []
  }
 ],
 "metadata": {
  "kernelspec": {
   "display_name": "Python 3 (ipykernel)",
   "language": "python",
   "name": "python3"
  },
  "language_info": {
   "codemirror_mode": {
    "name": "ipython",
    "version": 3
   },
   "file_extension": ".py",
   "mimetype": "text/x-python",
   "name": "python",
   "nbconvert_exporter": "python",
   "pygments_lexer": "ipython3",
   "version": "3.12.7"
  }
 },
 "nbformat": 4,
 "nbformat_minor": 5
}
